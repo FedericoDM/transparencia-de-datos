{
 "cells": [
  {
   "cell_type": "code",
   "execution_count": 159,
   "id": "strange-antigua",
   "metadata": {},
   "outputs": [],
   "source": [
    "import pandas as pd\n",
    "import numpy as np\n",
    "import requests\n",
    "from bs4 import BeautifulSoup, NavigableString\n",
    "import unicodedata"
   ]
  },
  {
   "cell_type": "code",
   "execution_count": 160,
   "id": "optical-cookbook",
   "metadata": {},
   "outputs": [],
   "source": [
    "url_1 = \"http://sitl.diputados.gob.mx/LXIV_leg/curricula.php?dipt=127\""
   ]
  },
  {
   "cell_type": "code",
   "execution_count": 161,
   "id": "conceptual-machine",
   "metadata": {},
   "outputs": [],
   "source": [
    "response = requests.get(url_1)\n",
    "html_doc = response.content\n",
    "soup = BeautifulSoup(html_doc, 'html.parser')"
   ]
  },
  {
   "cell_type": "code",
   "execution_count": 162,
   "id": "asian-airport",
   "metadata": {},
   "outputs": [
    {
     "data": {
      "text/plain": [
       "'dvg'"
      ]
     },
     "execution_count": 162,
     "metadata": {},
     "output_type": "execute_result"
    }
   ],
   "source": [
    "cadena=soup.find_all('td', {'class': 'textocurrienc'})[0].get_text(strip=True)\n",
    "cad=soup.find_all('td', {'class': 'textocurrienc'})[0].get_text(strip=True)\n",
    "cadena= cadena.split(' ') \n",
    "\n",
    "cadena= cadena[1:]\n",
    "\n",
    "iniciales= \"\"\n",
    "for p in cadena:\n",
    "    iniciales= iniciales+ p[0].lower()\n",
    "\n",
    "iniciales= iniciales. split('(')\n",
    "iniciales= iniciales[0]\n",
    "iniciales"
   ]
  },
  {
   "cell_type": "code",
   "execution_count": 163,
   "id": "incorporated-bearing",
   "metadata": {},
   "outputs": [
    {
     "data": {
      "text/plain": [
       "'dioniciavázquezgarcía'"
      ]
     },
     "execution_count": 163,
     "metadata": {},
     "output_type": "execute_result"
    }
   ],
   "source": [
    "cadena\n",
    "nombre= \"\"\n",
    "for p in cadena:\n",
    "    nombre= nombre+ p[0:].lower()\n",
    "    \n",
    "nombre =nombre.split('(licencia)')\n",
    "nombre=nombre[0]\n",
    "nombre"
   ]
  },
  {
   "cell_type": "code",
   "execution_count": 164,
   "id": "dynamic-scheduling",
   "metadata": {},
   "outputs": [
    {
     "data": {
      "text/plain": [
       "['Dip. Dionicia Vázquez García',\n",
       " 'Mayoría Relativa',\n",
       " 'México|Distrito:2|H-283',\n",
       " 'dionicia.vazquez@diputados.gob.mxExtensión:62058',\n",
       " '29-marzo-1948',\n",
       " 'Elena Laura Flores Martínez']"
      ]
     },
     "execution_count": 164,
     "metadata": {},
     "output_type": "execute_result"
    }
   ],
   "source": [
    "data = soup.find_all('td', {'class': 'textocurri','width' :'470'})\n",
    "tabla_princ= []\n",
    "#tabla_princ.append(soup.find_all('td', {'class': 'textocurrienc'})[0].get_text(strip=True))\n",
    "tabla_princ.append(cad)\n",
    "for i in range(len(data)):\n",
    "        tabla_princ.append(data[i].get_text(strip=True))\n",
    "tabla_princ"
   ]
  },
  {
   "cell_type": "code",
   "execution_count": 165,
   "id": "spare-perfume",
   "metadata": {},
   "outputs": [
    {
     "data": {
      "text/plain": [
       "['Dip. Dionicia Vázquez García',\n",
       " 'Mayoría Relativa',\n",
       " 'México|Distrito:2|H-283',\n",
       " 'dionicia.vazquez@diputados.gob.mxExtensión:62058',\n",
       " '29-marzo-1948',\n",
       " 'Elena Laura Flores Martínez',\n",
       " 'México',\n",
       " 'Distrito:2',\n",
       " 'H-283',\n",
       " 'dionicia.vazquez@diputados.gob.mx',\n",
       " '62058']"
      ]
     },
     "execution_count": 165,
     "metadata": {},
     "output_type": "execute_result"
    }
   ],
   "source": [
    "tabla_princ.extend(tabla_princ[2].split(\"|\"))\n",
    "tabla_princ.extend( tabla_princ[3].split('Extensión:'))\n",
    "\n",
    "tabla_princ"
   ]
  },
  {
   "cell_type": "code",
   "execution_count": 166,
   "id": "alternate-kitty",
   "metadata": {},
   "outputs": [
    {
     "data": {
      "text/plain": [
       "'dionicia.vazquez@diputados.gob.mxExtensión:62058'"
      ]
     },
     "execution_count": 166,
     "metadata": {},
     "output_type": "execute_result"
    }
   ],
   "source": [
    "tabla_princ.pop(2)\n",
    "tabla_princ.pop(2)\n",
    "#tabla_princ.extend(tabla_princ[5].split('Circunscripción:'))\n",
    "#tabla_princ.pop(5)\n",
    "#tabla_princ.pop(8)"
   ]
  },
  {
   "cell_type": "code",
   "execution_count": 167,
   "id": "incoming-damage",
   "metadata": {},
   "outputs": [
    {
     "data": {
      "text/plain": [
       "['Dip. Dionicia Vázquez García',\n",
       " 'Mayoría Relativa',\n",
       " '29-marzo-1948',\n",
       " 'Elena Laura Flores Martínez',\n",
       " 'México',\n",
       " 'Distrito:2',\n",
       " 'H-283',\n",
       " 'dionicia.vazquez@diputados.gob.mx',\n",
       " '62058']"
      ]
     },
     "execution_count": 167,
     "metadata": {},
     "output_type": "execute_result"
    }
   ],
   "source": [
    "\n",
    "tabla_princ"
   ]
  },
  {
   "cell_type": "code",
   "execution_count": 168,
   "id": "naval-monthly",
   "metadata": {},
   "outputs": [],
   "source": [
    "tabla_princ.insert(0, iniciales+'_'+tabla_princ[4].lower())\n",
    "tabla_princ.insert(1, nombre+'_'+tabla_princ[5].lower())"
   ]
  },
  {
   "cell_type": "code",
   "execution_count": 169,
   "id": "analyzed-voice",
   "metadata": {},
   "outputs": [
    {
     "data": {
      "text/plain": [
       "['dvg_méxico',\n",
       " 'dioniciavázquezgarcía_méxico',\n",
       " 'Dip. Dionicia Vázquez García',\n",
       " 'Mayoría Relativa',\n",
       " '29-marzo-1948',\n",
       " 'Elena Laura Flores Martínez',\n",
       " 'México',\n",
       " 'Distrito:2',\n",
       " 'H-283',\n",
       " 'dionicia.vazquez@diputados.gob.mx',\n",
       " '62058']"
      ]
     },
     "execution_count": 169,
     "metadata": {},
     "output_type": "execute_result"
    }
   ],
   "source": [
    "tabla_princ"
   ]
  },
  {
   "cell_type": "code",
   "execution_count": 170,
   "id": "optical-density",
   "metadata": {},
   "outputs": [],
   "source": [
    "tabla=[]\n",
    "for t in tabla_princ:\n",
    "    trans_tab = dict.fromkeys(map(ord, u'\\u0301\\u0308'), None)\n",
    "    t = unicodedata.normalize('NFKC', unicodedata.normalize('NFKD', t).translate(trans_tab)) \n",
    "    tabla.append(t)"
   ]
  },
  {
   "cell_type": "code",
   "execution_count": 171,
   "id": "related-studio",
   "metadata": {},
   "outputs": [
    {
     "data": {
      "text/plain": [
       "['dvg_mexico',\n",
       " 'dioniciavazquezgarcia_mexico',\n",
       " 'Dip. Dionicia Vazquez Garcia',\n",
       " 'Mayoria Relativa',\n",
       " '29-marzo-1948',\n",
       " 'Elena Laura Flores Martinez',\n",
       " 'Mexico',\n",
       " 'Distrito:2',\n",
       " 'H-283',\n",
       " 'dionicia.vazquez@diputados.gob.mx',\n",
       " '62058']"
      ]
     },
     "execution_count": 171,
     "metadata": {},
     "output_type": "execute_result"
    }
   ],
   "source": [
    "tabla"
   ]
  },
  {
   "cell_type": "code",
   "execution_count": 172,
   "id": "executed-lesson",
   "metadata": {},
   "outputs": [
    {
     "data": {
      "text/html": [
       "<div>\n",
       "<style scoped>\n",
       "    .dataframe tbody tr th:only-of-type {\n",
       "        vertical-align: middle;\n",
       "    }\n",
       "\n",
       "    .dataframe tbody tr th {\n",
       "        vertical-align: top;\n",
       "    }\n",
       "\n",
       "    .dataframe thead th {\n",
       "        text-align: right;\n",
       "    }\n",
       "</style>\n",
       "<table border=\"1\" class=\"dataframe\">\n",
       "  <thead>\n",
       "    <tr style=\"text-align: right;\">\n",
       "      <th></th>\n",
       "      <th>inic_edo</th>\n",
       "      <th>nom_edo</th>\n",
       "      <th>nombre</th>\n",
       "      <th>tipo_elec</th>\n",
       "      <th>onomastico</th>\n",
       "      <th>suplente</th>\n",
       "      <th>edo</th>\n",
       "      <th>ent</th>\n",
       "      <th>ent_2</th>\n",
       "      <th>correo</th>\n",
       "      <th>ext</th>\n",
       "    </tr>\n",
       "  </thead>\n",
       "  <tbody>\n",
       "    <tr>\n",
       "      <th>1</th>\n",
       "      <td>dvg_mexico</td>\n",
       "      <td>dioniciavazquezgarcia_mexico</td>\n",
       "      <td>Dip. Dionicia Vazquez Garcia</td>\n",
       "      <td>Mayoria Relativa</td>\n",
       "      <td>29-marzo-1948</td>\n",
       "      <td>Elena Laura Flores Martinez</td>\n",
       "      <td>Mexico</td>\n",
       "      <td>Distrito:2</td>\n",
       "      <td>H-283</td>\n",
       "      <td>dionicia.vazquez@diputados.gob.mx</td>\n",
       "      <td>62058</td>\n",
       "    </tr>\n",
       "  </tbody>\n",
       "</table>\n",
       "</div>"
      ],
      "text/plain": [
       "     inic_edo                       nom_edo                        nombre  \\\n",
       "1  dvg_mexico  dioniciavazquezgarcia_mexico  Dip. Dionicia Vazquez Garcia   \n",
       "\n",
       "          tipo_elec     onomastico                     suplente     edo  \\\n",
       "1  Mayoria Relativa  29-marzo-1948  Elena Laura Flores Martinez  Mexico   \n",
       "\n",
       "          ent  ent_2                             correo    ext  \n",
       "1  Distrito:2  H-283  dionicia.vazquez@diputados.gob.mx  62058  "
      ]
     },
     "execution_count": 172,
     "metadata": {},
     "output_type": "execute_result"
    }
   ],
   "source": [
    "#index=np.arange(1, 6, 1)\n",
    "df=pd.DataFrame(columns=['inic_edo', 'nom_edo', 'nombre', 'tipo_elec', 'onomastico', 'suplente', 'edo', 'ent', 'ent_2', 'correo', 'ext'])\n",
    "i=len(df)+1\n",
    "df.loc[i]=tabla\n",
    "df"
   ]
  },
  {
   "cell_type": "code",
   "execution_count": null,
   "id": "novel-upgrade",
   "metadata": {},
   "outputs": [],
   "source": []
  }
 ],
 "metadata": {
  "kernelspec": {
   "display_name": "itam_md_21",
   "language": "python",
   "name": "itam_md_21"
  },
  "language_info": {
   "codemirror_mode": {
    "name": "ipython",
    "version": 3
   },
   "file_extension": ".py",
   "mimetype": "text/x-python",
   "name": "python",
   "nbconvert_exporter": "python",
   "pygments_lexer": "ipython3",
   "version": "3.7.1"
  }
 },
 "nbformat": 4,
 "nbformat_minor": 5
}
