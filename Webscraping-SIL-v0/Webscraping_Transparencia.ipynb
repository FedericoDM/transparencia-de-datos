{
 "metadata": {
  "language_info": {
   "codemirror_mode": {
    "name": "ipython",
    "version": 3
   },
   "file_extension": ".py",
   "mimetype": "text/x-python",
   "name": "python",
   "nbconvert_exporter": "python",
   "pygments_lexer": "ipython3",
   "version": "3.7.6-final"
  },
  "orig_nbformat": 2,
  "kernelspec": {
   "name": "python3",
   "display_name": "Python 3",
   "language": "python"
  }
 },
 "nbformat": 4,
 "nbformat_minor": 2,
 "cells": [
  {
   "source": [
    "# Proyecto de Transparencia - Webscraping"
   ],
   "cell_type": "markdown",
   "metadata": {}
  },
  {
   "cell_type": "code",
   "execution_count": 17,
   "metadata": {},
   "outputs": [],
   "source": [
    "import pandas as pd\n",
    "import numpy as np\n",
    "import requests\n",
    "from bs4 import BeautifulSoup"
   ]
  },
  {
   "cell_type": "code",
   "execution_count": 2,
   "metadata": {},
   "outputs": [],
   "source": [
    "def get_sections(table_rows):\n",
    "    \"\"\"\n",
    "    Sacar datos, columnas y titulos de todas las tablas\n",
    "    \"\"\"\n",
    "    datos_azul = []\n",
    "    criterios_persona = []\n",
    "    criterios = []\n",
    "    titulos = []\n",
    "    for table_row in table_rows:\n",
    "        data = table_row.find_all('td', {'class': 'tddatosazul'})\n",
    "        criterio_persona = table_row.find_all('td', {'class': 'tdcriterioPer'})\n",
    "        criterio = table_row.find_all('td', {'class': 'tdcriterio'})\n",
    "        titles = table_row.find_all('td', {'class': 'simpletextmayor'})\n",
    "\n",
    "        datos_azul.append(data)\n",
    "        criterios_persona.append(criterio_persona)\n",
    "        criterios.append(criterio)\n",
    "        titulos.append(titles)\n",
    "    return datos_azul, criterios_persona, criterios, titulos"
   ]
  },
  {
   "cell_type": "code",
   "execution_count": 3,
   "metadata": {},
   "outputs": [],
   "source": [
    "def get_perfil_legislador(datos_azul, criterios_persona):\n",
    "    \"\"\"\n",
    "    Obtener tabla 'perfil del legislador'\n",
    "    Su estructura es diferente al resto de las demas tablas\n",
    "    \"\"\"\n",
    "    datos_perfil_legislador = datos_azul[0:puntos_corte[0]]\n",
    "    atributos_perfil_legislador = criterios_persona[0:puntos_corte[0]]\n",
    "\n",
    "    atributos_perfil_legislador[3]\n",
    "    datos_perfil_legislador[3]\n",
    "\n",
    "    dato_legislador = []\n",
    "    atributo_legislador = []\n",
    "    for dato, atributo in zip(datos_perfil_legislador[3], atributos_perfil_legislador[3]):\n",
    "        dato_legislador.append(dato.text.strip())\n",
    "        atributo_legislador.append(atributo.text.strip())\n",
    "    df = pd.DataFrame([])\n",
    "    df['Atributo'] = atributo_legislador\n",
    "    df['Datos'] =dato_legislador\n",
    "    return df"
   ]
  },
  {
   "cell_type": "code",
   "execution_count": 4,
   "metadata": {},
   "outputs": [],
   "source": [
    "def get_tables_locations(titulos):\n",
    "    \"\"\"\n",
    "    Obtener ubicaciones de todas las tablas en el html\n",
    "    \"\"\"\n",
    "    i = 0\n",
    "    puntos_corte = []\n",
    "    while i < len(titulos):\n",
    "        if (len(titulos[i]) > 0):\n",
    "            puntos_corte.append(i)\n",
    "            i += 1\n",
    "        else:\n",
    "            i += 1\n",
    "    return puntos_corte    "
   ]
  },
  {
   "cell_type": "code",
   "execution_count": 5,
   "metadata": {},
   "outputs": [],
   "source": [
    "def get_criterios(datos_azul, criterios, num_tabla):\n",
    "    \"\"\"\n",
    "    Sacar datos, nombre de columnas y titulos de la tabla \"i\"\n",
    "    \"\"\"\n",
    "    try:\n",
    "        table_title = titulos[puntos_corte[num_tabla]][0].text.strip()\n",
    "        data = datos_azul[puntos_corte[num_tabla]:puntos_corte[num_tabla + 1]]\n",
    "        criteria = criterios[puntos_corte[num_tabla]:puntos_corte[num_tabla + 1]]\n",
    "    except:\n",
    "        table_title = titulos[puntos_corte[num_tabla]][0].text.strip()\n",
    "        data = datos_azul[puntos_corte[num_tabla]:]\n",
    "        criteria = criterios[puntos_corte[num_tabla]:]\n",
    "\n",
    "    for criterion in criteria:\n",
    "        if len(criterion) > 0:\n",
    "            table_criteria = criterion\n",
    "    return data, table_criteria, table_title"
   ]
  },
  {
   "cell_type": "code",
   "execution_count": 6,
   "metadata": {},
   "outputs": [],
   "source": [
    "def get_table(table_criteria, table_data):\n",
    "    \"\"\"\n",
    "    Parsear la tabla \"i\" a un dataframe\n",
    "    \"\"\"\n",
    "    lista_dics = []\n",
    "    for data in table_data:\n",
    "        if len(data) > 0:\n",
    "            num_elementos = len(table_criteria)\n",
    "            i = 0\n",
    "            d = {}\n",
    "            while (i < num_elementos):\n",
    "                d[table_criteria[i].text.strip()] = data[i].text.strip()\n",
    "                i += 1\n",
    "            lista_dics.append(d)\n",
    "    df = pd.DataFrame.from_dict(lista_dics)\n",
    "    return df"
   ]
  },
  {
   "source": [
    "# Pipeline\n",
    "\n",
    "- Vamos a sacar todas las tablas de golpe\n",
    "- Ya sabemos cuántas son y tenemos las funciones necesarias"
   ],
   "cell_type": "markdown",
   "metadata": {}
  },
  {
   "source": [
    "## Sacar HTML con BeautifulSoup"
   ],
   "cell_type": "markdown",
   "metadata": {}
  },
  {
   "cell_type": "code",
   "execution_count": 7,
   "metadata": {},
   "outputs": [],
   "source": [
    "url_1 = \"http://sil.gobernacion.gob.mx/Librerias/pp_PerfilLegislador.php?SID=&Referencia=9221837\"\n",
    "url_2 = \"http://sil.gobernacion.gob.mx/Librerias/pp_PerfilLegislador.php?SID=&Referencia=9221831\"\n",
    "url_3 = \"http://sil.gobernacion.gob.mx/Librerias/pp_PerfilLegislador.php?SID=&Referencia=9221843\""
   ]
  },
  {
   "cell_type": "code",
   "execution_count": 68,
   "metadata": {},
   "outputs": [],
   "source": [
    "response = requests.get(url_1)\n",
    "html_doc = response.content\n",
    "soup = BeautifulSoup(html_doc, 'html.parser')"
   ]
  },
  {
   "source": [
    "### Vamos a jalar los tr's y de ahí sacaremos los datos que sean necesarios\n",
    "- Los _table rows_ (tr) traen toda la info que necesitamos (pero desordenada)\n"
   ],
   "cell_type": "markdown",
   "metadata": {}
  },
  {
   "cell_type": "code",
   "execution_count": 69,
   "metadata": {},
   "outputs": [],
   "source": [
    "table_rows = soup.find_all('tr')"
   ]
  },
  {
   "source": [
    "### Obtenemos secciones con la info. que queremos (datos, criterios de la primera tabla, nombres de las columnas, etc)"
   ],
   "cell_type": "markdown",
   "metadata": {}
  },
  {
   "cell_type": "code",
   "execution_count": 70,
   "metadata": {},
   "outputs": [],
   "source": [
    "datos_azul, criterios_persona, criterios, titulos = get_sections(table_rows)"
   ]
  },
  {
   "source": [
    "### Sacar primera tabla (perfil legislador)"
   ],
   "cell_type": "markdown",
   "metadata": {}
  },
  {
   "source": [
    "### Las partes donde hay/no hay subtitulos nos van a decir las tablas faltantes por sacar y en dónde están"
   ],
   "cell_type": "markdown",
   "metadata": {}
  },
  {
   "cell_type": "code",
   "execution_count": 71,
   "metadata": {},
   "outputs": [
    {
     "output_type": "stream",
     "name": "stdout",
     "text": [
      "Ubicaciones tablas:  [20, 29, 32, 42, 50]\nNumero de tablas:  5\n"
     ]
    }
   ],
   "source": [
    "puntos_corte = get_tables_locations(titulos)\n",
    "print(\"Ubicaciones tablas: \", puntos_corte)\n",
    "print(\"Numero de tablas: \", len(puntos_corte))"
   ]
  },
  {
   "cell_type": "code",
   "execution_count": 72,
   "metadata": {},
   "outputs": [
    {
     "output_type": "execute_result",
     "data": {
      "text/plain": [
       "                      Atributo  \\\n",
       "0                      Nombre:   \n",
       "1                     Estatus:   \n",
       "2   Periodo de la legislatura:   \n",
       "3                     Partido:   \n",
       "4                  Nacimiento:   \n",
       "5       Principio de elección:   \n",
       "6                        Zona:   \n",
       "7            Toma de protesta:   \n",
       "8      Ubicación en la cámara:   \n",
       "9         Correo  electrónico:   \n",
       "10         Teléfono en cámara:   \n",
       "11                   Suplente:   \n",
       "12   Último grado de estudios:   \n",
       "13      Preparación académica:   \n",
       "\n",
       "                                                Datos  \n",
       "0   Senador Propietario:Gutiérrez Castorena, Danie...  \n",
       "1                                              Activo  \n",
       "2                        Del 29/08/2018 al 31/08/2021  \n",
       "3                                              Morena  \n",
       "4                          Fecha: N/AEntidad: Ciudad:  \n",
       "5                                     Primera Minoría  \n",
       "6                             Entidad: Aguascalientes  \n",
       "7                                          29/08/2018  \n",
       "8   Edif., del Hemiciclo Piso 4\\r\\nOficina 16, Col...  \n",
       "9             oficina.daniel.gutierrezc@senado.gob.mx  \n",
       "10                      55 5345 3000 Ext. 3072 y 5226  \n",
       "11                          Ponce Larrinua, Alejandro  \n",
       "12                                          Doctorado  \n",
       "13                      Ciencias políticas y sociales  "
      ],
      "text/html": "<div>\n<style scoped>\n    .dataframe tbody tr th:only-of-type {\n        vertical-align: middle;\n    }\n\n    .dataframe tbody tr th {\n        vertical-align: top;\n    }\n\n    .dataframe thead th {\n        text-align: right;\n    }\n</style>\n<table border=\"1\" class=\"dataframe\">\n  <thead>\n    <tr style=\"text-align: right;\">\n      <th></th>\n      <th>Atributo</th>\n      <th>Datos</th>\n    </tr>\n  </thead>\n  <tbody>\n    <tr>\n      <th>0</th>\n      <td>Nombre:</td>\n      <td>Senador Propietario:Gutiérrez Castorena, Danie...</td>\n    </tr>\n    <tr>\n      <th>1</th>\n      <td>Estatus:</td>\n      <td>Activo</td>\n    </tr>\n    <tr>\n      <th>2</th>\n      <td>Periodo de la legislatura:</td>\n      <td>Del 29/08/2018 al 31/08/2021</td>\n    </tr>\n    <tr>\n      <th>3</th>\n      <td>Partido:</td>\n      <td>Morena</td>\n    </tr>\n    <tr>\n      <th>4</th>\n      <td>Nacimiento:</td>\n      <td>Fecha: N/AEntidad: Ciudad:</td>\n    </tr>\n    <tr>\n      <th>5</th>\n      <td>Principio de elección:</td>\n      <td>Primera Minoría</td>\n    </tr>\n    <tr>\n      <th>6</th>\n      <td>Zona:</td>\n      <td>Entidad: Aguascalientes</td>\n    </tr>\n    <tr>\n      <th>7</th>\n      <td>Toma de protesta:</td>\n      <td>29/08/2018</td>\n    </tr>\n    <tr>\n      <th>8</th>\n      <td>Ubicación en la cámara:</td>\n      <td>Edif., del Hemiciclo Piso 4\\r\\nOficina 16, Col...</td>\n    </tr>\n    <tr>\n      <th>9</th>\n      <td>Correo  electrónico:</td>\n      <td>oficina.daniel.gutierrezc@senado.gob.mx</td>\n    </tr>\n    <tr>\n      <th>10</th>\n      <td>Teléfono en cámara:</td>\n      <td>55 5345 3000 Ext. 3072 y 5226</td>\n    </tr>\n    <tr>\n      <th>11</th>\n      <td>Suplente:</td>\n      <td>Ponce Larrinua, Alejandro</td>\n    </tr>\n    <tr>\n      <th>12</th>\n      <td>Último grado de estudios:</td>\n      <td>Doctorado</td>\n    </tr>\n    <tr>\n      <th>13</th>\n      <td>Preparación académica:</td>\n      <td>Ciencias políticas y sociales</td>\n    </tr>\n  </tbody>\n</table>\n</div>"
     },
     "metadata": {},
     "execution_count": 72
    }
   ],
   "source": [
    "perfil_legislador = get_perfil_legislador(datos_azul, criterios_persona)\n",
    "perfil_legislador"
   ]
  },
  {
   "cell_type": "code",
   "execution_count": 73,
   "metadata": {},
   "outputs": [
    {
     "output_type": "execute_result",
     "data": {
      "text/plain": [
       "array([0, 1, 2, 3, 4])"
      ]
     },
     "metadata": {},
     "execution_count": 73
    }
   ],
   "source": [
    "numeros_tablas = np.arange(0, len(puntos_corte))\n",
    "numeros_tablas"
   ]
  },
  {
   "source": [
    "### Obtener datos de la tabla \"i\" junto con el nombre de sus columnas y parsearlas a un dataframe"
   ],
   "cell_type": "markdown",
   "metadata": {}
  },
  {
   "cell_type": "code",
   "execution_count": 74,
   "metadata": {},
   "outputs": [
    {
     "output_type": "stream",
     "name": "stdout",
     "text": [
      "COMISIONES\nTRAYECTORIA ADMINISTRATIVA\nTRAYECTORIA POLÍTICA\nTRAYECTORIA ACADÉMICA\nOTROS RUBROS\n"
     ]
    }
   ],
   "source": [
    "lista_tablas = []\n",
    "for numero_tabla in numeros_tablas:\n",
    "    table_data, table_criteria, table_title = get_criterios(datos_azul, criterios, numero_tabla)\n",
    "    print(table_title)\n",
    "    df_table = get_table(table_criteria, table_data)\n",
    "    lista_tablas.append(df_table)"
   ]
  },
  {
   "cell_type": "code",
   "execution_count": 76,
   "metadata": {},
   "outputs": [
    {
     "output_type": "execute_result",
     "data": {
      "text/plain": [
       "  Del año Al año                                        Trayectoria\n",
       "0    1974   1978  Licenciatura en Ciencias Políticas y Administr...\n",
       "1    1978   1984  Docente de la Universidad Autónoma de Aguascal...\n",
       "2    1985   2015  Docente investigador de la Universidad Autónom...\n",
       "3    1992   1993  Maestría en Ciencias Sociales por la Universid...\n",
       "4    1994   1996  Maestría en Sociología Industrial y del Trabaj...\n",
       "5    1998   2001         Doctorado en Estudios Sociales por la UAM."
      ],
      "text/html": "<div>\n<style scoped>\n    .dataframe tbody tr th:only-of-type {\n        vertical-align: middle;\n    }\n\n    .dataframe tbody tr th {\n        vertical-align: top;\n    }\n\n    .dataframe thead th {\n        text-align: right;\n    }\n</style>\n<table border=\"1\" class=\"dataframe\">\n  <thead>\n    <tr style=\"text-align: right;\">\n      <th></th>\n      <th>Del año</th>\n      <th>Al año</th>\n      <th>Trayectoria</th>\n    </tr>\n  </thead>\n  <tbody>\n    <tr>\n      <th>0</th>\n      <td>1974</td>\n      <td>1978</td>\n      <td>Licenciatura en Ciencias Políticas y Administr...</td>\n    </tr>\n    <tr>\n      <th>1</th>\n      <td>1978</td>\n      <td>1984</td>\n      <td>Docente de la Universidad Autónoma de Aguascal...</td>\n    </tr>\n    <tr>\n      <th>2</th>\n      <td>1985</td>\n      <td>2015</td>\n      <td>Docente investigador de la Universidad Autónom...</td>\n    </tr>\n    <tr>\n      <th>3</th>\n      <td>1992</td>\n      <td>1993</td>\n      <td>Maestría en Ciencias Sociales por la Universid...</td>\n    </tr>\n    <tr>\n      <th>4</th>\n      <td>1994</td>\n      <td>1996</td>\n      <td>Maestría en Sociología Industrial y del Trabaj...</td>\n    </tr>\n    <tr>\n      <th>5</th>\n      <td>1998</td>\n      <td>2001</td>\n      <td>Doctorado en Estudios Sociales por la UAM.</td>\n    </tr>\n  </tbody>\n</table>\n</div>"
     },
     "metadata": {},
     "execution_count": 76
    }
   ],
   "source": [
    "lista_tablas[3]"
   ]
  }
 ]
}