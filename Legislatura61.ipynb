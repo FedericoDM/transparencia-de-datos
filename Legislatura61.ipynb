{
 "cells": [
  {
   "cell_type": "code",
   "execution_count": 1,
   "metadata": {},
   "outputs": [],
   "source": [
    "import scrapy\n",
    "import numpy as np\n",
    "from scrapy.crawler import CrawlerProcess\n",
    "import re\n",
    "import json"
   ]
  },
  {
   "cell_type": "code",
   "execution_count": 2,
   "metadata": {},
   "outputs": [],
   "source": [
    "class Diputados(scrapy.Spider):\n",
    "    name = \"spider_diputados\"\n",
    "    \n",
    "    def start_requests(self):\n",
    "        links = [urlCurr + i for i in terminaciones]\n",
    "        for link in links:\n",
    "            yield scrapy.Request( url = link, headers={'User-Agent': 'Mozilla/5.0 (X11; Ubuntu; Linux x86_64; rv:66.0) Gecko/20100101 Firefox/66.0'}, \n",
    "                              callback = self.parse )\n",
    "    \n",
    "    def parse(self,response):\n",
    "        nombre = response.css('span.Estilo67::text').extract_first()\n",
    "        nombre = limpiaText(nombre) # cambié esto\n",
    "        idDipu = ''.join([c for c in nombre[1:] if c.isupper()])\n",
    "        cumple = response.css('td.textoNegro::text').extract()[5]\n",
    "        curp = creaCurp(nombre,cumple)\n",
    "        dipus[curp]={}\n",
    "        dipus.get(curp,{})['CURP']=curp # Agregué esto para \n",
    "        dipus.get(curp,{})['Nombre']=nombre # cambié aquí\n",
    "        dipus.get(curp,{})['TipoElección']=response.css('td.textoNegro::text').extract()[0]\n",
    "        dipus.get(curp,{})['Entidad']=response.css('td.textoNegro::text').extract()[1]\n",
    "        parti=response.xpath('//tr/td/table//td//img/@src').extract()[1]\n",
    "        dipus.get(curp,{})['Partido']=obtienePartido(parti)\n",
    "        distri1 =response.css('td.textoNegro::text').extract()[2]\n",
    "        distri2 =response.css('td.textoNegro::text').extract()[4]  # PARTE RARA\n",
    "        dipus.get(curp,{})['Distrito'] = distri1 +\"\"+ distri2\n",
    "        dipus.get(curp,{})['Correo']=response.css('a.linkNegroSin::text').extract()[0]\n",
    "        dipus.get(curp,{})['Onomástico']=limpiaText(cumple)\n",
    "        supl=response.css('span.Estilo67::text').extract()[6]\n",
    "        dipus.get(curp,{})['Suplente']=limpiaText(supl)\n",
    "        dipus.get(curp,{})['Comisiones']=response.xpath('//a[contains(@href, \"integrantes_de_comision\")]/text()').getall()\n",
    "        dipus.get(curp,{})['Último grado de estudios']=response.xpath('//td[@class=\"textoNegro\"]/text()').extract_first()\n",
    "        link_asis=urlDipu + response.css('a.linkBlancoSin::attr(href)').extract()[2]\n",
    "        link_votaciones=urlDipu + response.css('a.linkBlancoSin::attr(href)').extract()[3]\n",
    "        #yield response.follow(url=link_asis, headers={'User-Agent': 'Mozilla/5.0 (X11; Ubuntu; Linux x86_64; rv:66.0) Gecko/20100101 Firefox/66.0'},meta={'curp':curp},\n",
    "        #                     callback=self.parse2)\n",
    "        yield response.follow(url=link_votaciones, headers={'User-Agent': 'Mozilla/5.0 (X11; Ubuntu; Linux x86_64; rv:66.0) Gecko/20100101 Firefox/66.0'},meta={'curp':curp},\n",
    "                              callback=self.parse4)\n",
    "    \n",
    "    def parse2(self,response):\n",
    "        curp = response.meta['curp']\n",
    "        referencias = response.xpath('//a[@class=\"linkVerde\"]/@href').extract()\n",
    "        links = [urlDipu + referencia for referencia in referencias]\n",
    "        for li in links:\n",
    "            yield response.follow(url=li, headers={'User-Agent': 'Mozilla/5.0 (X11; Ubuntu; Linux x86_64; rv:66.0) Gecko/20100101 Firefox/66.0'},meta={'curp':curp},\n",
    "                              callback=self.parse3)\n",
    "    \n",
    "    def parse3(self,response):\n",
    "        curp = response.meta['curp']\n",
    "        prueba = response.xpath('//tr/td/div/font/text()').extract()\n",
    "        dias = list(filter(lambda a: (a == 'A' or a =='AC'), prueba))\n",
    "        dipus.get(curp,{})['Asistencias']=dipus.get(curp,{}).get('Asistencias',0) + len(dias)\n",
    "\n",
    "    def parse4(self,response):\n",
    "        curp = response.meta['curp']\n",
    "        referencias = response.xpath('//a[@class=\"linkVerde\"]/@href').extract()\n",
    "        links = [urlDipu + referencia for referencia in referencias]\n",
    "        for li in links:\n",
    "            yield response.follow(url=li, headers={'User-Agent': 'Mozilla/5.0 (X11; Ubuntu; Linux x86_64; rv:66.0) Gecko/20100101 Firefox/66.0'},meta={'curp':curp},\n",
    "                              callback=self.parse5)\n",
    "                \n",
    "    def parse5(self,response):\n",
    "        curp = response.meta['curp']\n",
    "        aux = response.xpath('//td[@class=\"smallVerde\"]/text()').extract()\n",
    "        aux2={}\n",
    "        for i in range(1,len(aux),4):\n",
    "            votos = {}\n",
    "            votacion = response.xpath('//td[@class=\"smallVerde\"]/text()').extract()[i]\n",
    "            posi = response.xpath('//td[@class=\"smallVerde\"]/text()').extract()[i+2]\n",
    "            if(votacion in por_votaciones.keys()):\n",
    "                por_votaciones[votacion][curp]=posi\n",
    "            else:\n",
    "                    por_votaciones[votacion] = {\"ID_voto\":limpiaVotacion(votacion),\"Nombre_Votación\":votacion, curp:posi}\n",
    "            votos['votación']=votacion\n",
    "            votos['posición']=posi\n",
    "            aux2['votos']=aux2.get('votos', []) + [votos]\n",
    "            #dipus.get(curp,{})['votos']=dipus.get(curp,{}).get('votos', []) + [votos]\n",
    "        dipus.get(curp,{})['votos']=dipus.get(curp,{}).get('votos',0)+len(aux2.get('votos', [])) # Se comenta si la de arriba se descomenta\n",
    "\n",
    "\n",
    "        "
   ]
  },
  {
   "cell_type": "code",
   "execution_count": 3,
   "metadata": {},
   "outputs": [],
   "source": [
    "def creaCurp(nombre,cumple):\n",
    "    \n",
    "    '''\n",
    "    iniciales = ''.join([c for c in nombre[1:] if c.isupper()])\n",
    "    c = cumple.replace('-', ' ').split(' ')\n",
    "    if(len(c[0])==1):\n",
    "        c[0]=\"0\"+c[0] \n",
    "    curp = iniciales[0:3]+c[0]+c[1][0:3]+c[2][-2:]\n",
    "    '''\n",
    "    curp = nombre.replace('.', '')\n",
    "    curp = curp.replace(' ', '')\n",
    "    curp = curp.upper()\n",
    "    curp = curp.replace('Á', 'A')\n",
    "    curp = curp.replace('É', 'E')\n",
    "    curp = curp.replace('Í', 'I')\n",
    "    curp = curp.replace('Ó', 'O')\n",
    "    curp = curp.replace('Ú', 'U')\n",
    "    curp = curp.replace('Ñ', 'N')\n",
    "    return curp"
   ]
  },
  {
   "cell_type": "code",
   "execution_count": 4,
   "metadata": {},
   "outputs": [],
   "source": [
    "def limpiaText(nom):\n",
    "    resp = re.sub('\\s+',' ',nom)\n",
    "    resp = resp.replace('Dip. ', '')\n",
    "    resp = resp.replace('(LICENCIA)', '')\n",
    "    resp = resp.replace('Suplente: ', '')\n",
    "    resp = resp.replace('(DECESO)', '')\n",
    "    resp = resp.replace('(Deceso)', '')\n",
    "    resp = resp.replace('  ', ' ')\n",
    "    if(resp!=\"\" and resp[-1]==\" \"):\n",
    "        resp = resp[0:len(resp)-1]\n",
    "    if(resp!=\"\" and resp[0]==\" \"):\n",
    "        resp = resp[1:]\n",
    "    return resp"
   ]
  },
  {
   "cell_type": "code",
   "execution_count": 5,
   "metadata": {},
   "outputs": [],
   "source": [
    "def limpiaVotacion(nombreVot):\n",
    "    nombreVot = nombreVot.replace('(', '')\n",
    "    nombreVot = nombreVot.replace(')', '')\n",
    "    nombreVot = nombreVot.replace(' SE ', ' ')\n",
    "    nombreVot = nombreVot.replace('DECRETO', '')\n",
    "    nombreVot = nombreVot.replace(' QUE ', ' ')\n",
    "    nombreVot = nombreVot.replace(' SE ', ' ')\n",
    "    nombreVot = nombreVot.replace(' DE ', ' ')\n",
    "    nombreVot = nombreVot.replace(' A ', ' ')\n",
    "    nombreVot = nombreVot.replace(' LA ', ' ')\n",
    "    nombreVot = nombreVot.replace(' EL ', ' ')\n",
    "    nombreVot = nombreVot.replace(' POR ', ' ')\n",
    "    nombreVot = nombreVot.replace(' PARA ', ' ')\n",
    "    nombreVot = nombreVot.replace(' LOS ', ' ')\n",
    "    nombreVot = nombreVot.replace(' LAS ', ' ')\n",
    "    nombreVot = nombreVot.replace(' Y ', ' ')\n",
    "    nombreVot = nombreVot.replace(' E ', ' ')\n",
    "    nombreVot = nombreVot.replace(' CON ', ' ')\n",
    "    nombreVot = nombreVot.replace(' LEY ', ' ')\n",
    "    nombreVot = nombreVot.replace(' EN ', ' ')\n",
    "    nombreVot = nombreVot.replace(' LO ', ' ')\n",
    "    nombreVot = nombreVot.replace(' DEL ', ' ')\n",
    "    nombreVot = nombreVot.replace('.', ' ')\n",
    "    nombreVot = nombreVot.replace(';', ' ')\n",
    "    nombreVot = nombreVot.replace(',', ' ')\n",
    "    nombreVot = nombreVot.replace('  ', ' ')\n",
    "    nombreFin=\"\"\n",
    "    for s in nombreVot.split():\n",
    "        nombreFin+=s[0]\n",
    "    return nombreFin\n",
    "    "
   ]
  },
  {
   "cell_type": "code",
   "execution_count": 6,
   "metadata": {},
   "outputs": [],
   "source": [
    "def obtienePartido(imagen):\n",
    "    res=\"\"\n",
    "    if(imagen=='images/pan.png'):\n",
    "        res = \"PAN\"\n",
    "    elif(imagen=='images/logpt.jpg'):\n",
    "        res = \"PT\"\n",
    "    elif(imagen=='images/LogoMorena.jpg'):\n",
    "        res = \"Morena\"\n",
    "    elif(imagen=='images/encuentro.png'):\n",
    "        res = \"Encuentro Social\"\n",
    "    elif(imagen=='images/logo_movimiento_ciudadano.png'):\n",
    "        res = \"Movimiento Ciudadano\"\n",
    "    elif(imagen=='images/pri01.png'):\n",
    "        res = \"PRI\"\n",
    "    elif(imagen=='images/logvrd.jpg'):\n",
    "        res = \"Partido Verde\"\n",
    "    elif(imagen=='images/prd01.png'):\n",
    "        res = \"PRD\"\n",
    "    elif(imagen=='images/logo_SP.jpg'):\n",
    "        res = \"Sin Partido\"\n",
    "    elif(imagen==\"images/panal.gif\"):\n",
    "        res = \"Nueva Alianza\"\n",
    "    elif(imagen==\"images/independiente.png\"):\n",
    "        res = \"Independiente\"\n",
    "    elif(imagen==\"images/pasc.jpg\"):\n",
    "        res = \"PSD\"\n",
    "    elif(imagen==\"images/convergencia.gif\"):\n",
    "        res = \"Convergencia\"\n",
    "    else:\n",
    "         res = \"Sin Partido\"\n",
    "    return res\n",
    "                                    "
   ]
  },
  {
   "cell_type": "code",
   "execution_count": 7,
   "metadata": {},
   "outputs": [
    {
     "name": "stderr",
     "output_type": "stream",
     "text": [
      "2021-04-09 18:11:49 [scrapy.utils.log] INFO: Scrapy 2.4.1 started (bot: scrapybot)\n",
      "2021-04-09 18:11:49 [scrapy.utils.log] INFO: Versions: lxml 4.6.2.0, libxml2 2.9.5, cssselect 1.1.0, parsel 1.6.0, w3lib 1.22.0, Twisted 21.2.0, Python 3.8.2 (tags/v3.8.2:7b3ab59, Feb 25 2020, 23:03:10) [MSC v.1916 64 bit (AMD64)], pyOpenSSL 20.0.1 (OpenSSL 1.1.1j  16 Feb 2021), cryptography 3.4.6, Platform Windows-10-10.0.19041-SP0\n",
      "2021-04-09 18:11:49 [scrapy.utils.log] DEBUG: Using reactor: twisted.internet.selectreactor.SelectReactor\n",
      "2021-04-09 18:11:49 [scrapy.crawler] INFO: Overridden settings:\n",
      "{}\n",
      "2021-04-09 18:11:49 [scrapy.extensions.telnet] INFO: Telnet Password: bc35096b0d15c58e\n",
      "2021-04-09 18:11:49 [scrapy.middleware] INFO: Enabled extensions:\n",
      "['scrapy.extensions.corestats.CoreStats',\n",
      " 'scrapy.extensions.telnet.TelnetConsole',\n",
      " 'scrapy.extensions.logstats.LogStats']\n",
      "2021-04-09 18:11:50 [scrapy.middleware] INFO: Enabled downloader middlewares:\n",
      "['scrapy.downloadermiddlewares.httpauth.HttpAuthMiddleware',\n",
      " 'scrapy.downloadermiddlewares.downloadtimeout.DownloadTimeoutMiddleware',\n",
      " 'scrapy.downloadermiddlewares.defaultheaders.DefaultHeadersMiddleware',\n",
      " 'scrapy.downloadermiddlewares.useragent.UserAgentMiddleware',\n",
      " 'scrapy.downloadermiddlewares.retry.RetryMiddleware',\n",
      " 'scrapy.downloadermiddlewares.redirect.MetaRefreshMiddleware',\n",
      " 'scrapy.downloadermiddlewares.httpcompression.HttpCompressionMiddleware',\n",
      " 'scrapy.downloadermiddlewares.redirect.RedirectMiddleware',\n",
      " 'scrapy.downloadermiddlewares.cookies.CookiesMiddleware',\n",
      " 'scrapy.downloadermiddlewares.httpproxy.HttpProxyMiddleware',\n",
      " 'scrapy.downloadermiddlewares.stats.DownloaderStats']\n",
      "2021-04-09 18:11:50 [scrapy.middleware] INFO: Enabled spider middlewares:\n",
      "['scrapy.spidermiddlewares.httperror.HttpErrorMiddleware',\n",
      " 'scrapy.spidermiddlewares.offsite.OffsiteMiddleware',\n",
      " 'scrapy.spidermiddlewares.referer.RefererMiddleware',\n",
      " 'scrapy.spidermiddlewares.urllength.UrlLengthMiddleware',\n",
      " 'scrapy.spidermiddlewares.depth.DepthMiddleware']\n",
      "2021-04-09 18:11:50 [scrapy.middleware] INFO: Enabled item pipelines:\n",
      "[]\n",
      "2021-04-09 18:11:50 [scrapy.core.engine] INFO: Spider opened\n",
      "2021-04-09 18:11:50 [scrapy.extensions.logstats] INFO: Crawled 0 pages (at 0 pages/min), scraped 0 items (at 0 items/min)\n",
      "2021-04-09 18:11:50 [scrapy.extensions.telnet] INFO: Telnet console listening on 127.0.0.1:6025\n",
      "2021-04-09 18:11:50 [scrapy.core.engine] DEBUG: Crawled (200) <GET http://sitllx.diputados.gob.mx/curricula.php?dipt=012> (referer: None)\n",
      "2021-04-09 18:11:50 [scrapy.core.engine] DEBUG: Crawled (200) <GET http://sitllx.diputados.gob.mx/votaciones_diputados_xperiodonp.php?dipt=012> (referer: http://sitllx.diputados.gob.mx/curricula.php?dipt=012)\n",
      "2021-04-09 18:11:50 [scrapy.core.engine] DEBUG: Crawled (200) <GET http://sitllx.diputados.gob.mx/votaciones_por_pernp.php?iddipt=12&pert=13> (referer: http://sitllx.diputados.gob.mx/votaciones_diputados_xperiodonp.php?dipt=012)\n",
      "2021-04-09 18:11:51 [scrapy.core.engine] DEBUG: Crawled (200) <GET http://sitllx.diputados.gob.mx/votaciones_por_pernp.php?iddipt=12&pert=1> (referer: http://sitllx.diputados.gob.mx/votaciones_diputados_xperiodonp.php?dipt=012)\n",
      "2021-04-09 18:11:51 [scrapy.core.engine] DEBUG: Crawled (200) <GET http://sitllx.diputados.gob.mx/votaciones_por_pernp.php?iddipt=12&pert=9> (referer: http://sitllx.diputados.gob.mx/votaciones_diputados_xperiodonp.php?dipt=012)\n",
      "2021-04-09 18:11:51 [scrapy.core.engine] DEBUG: Crawled (200) <GET http://sitllx.diputados.gob.mx/votaciones_por_pernp.php?iddipt=12&pert=5> (referer: http://sitllx.diputados.gob.mx/votaciones_diputados_xperiodonp.php?dipt=012)\n",
      "2021-04-09 18:11:51 [scrapy.core.engine] DEBUG: Crawled (200) <GET http://sitllx.diputados.gob.mx/votaciones_por_pernp.php?iddipt=12&pert=7> (referer: http://sitllx.diputados.gob.mx/votaciones_diputados_xperiodonp.php?dipt=012)\n",
      "2021-04-09 18:11:51 [scrapy.core.engine] DEBUG: Crawled (200) <GET http://sitllx.diputados.gob.mx/votaciones_por_pernp.php?iddipt=12&pert=3> (referer: http://sitllx.diputados.gob.mx/votaciones_diputados_xperiodonp.php?dipt=012)\n",
      "2021-04-09 18:11:51 [scrapy.core.engine] DEBUG: Crawled (200) <GET http://sitllx.diputados.gob.mx/votaciones_por_pernp.php?iddipt=12&pert=11> (referer: http://sitllx.diputados.gob.mx/votaciones_diputados_xperiodonp.php?dipt=012)\n",
      "2021-04-09 18:11:56 [scrapy.core.engine] INFO: Closing spider (finished)\n",
      "2021-04-09 18:11:56 [scrapy.statscollectors] INFO: Dumping Scrapy stats:\n",
      "{'downloader/request_bytes': 3862,\n",
      " 'downloader/request_count': 9,\n",
      " 'downloader/request_method_count/GET': 9,\n",
      " 'downloader/response_bytes': 347130,\n",
      " 'downloader/response_count': 9,\n",
      " 'downloader/response_status_count/200': 9,\n",
      " 'elapsed_time_seconds': 5.991081,\n",
      " 'finish_reason': 'finished',\n",
      " 'finish_time': datetime.datetime(2021, 4, 9, 23, 11, 56, 223705),\n",
      " 'log_count/DEBUG': 9,\n",
      " 'log_count/INFO': 10,\n",
      " 'request_depth_max': 2,\n",
      " 'response_received_count': 9,\n",
      " 'scheduler/dequeued': 9,\n",
      " 'scheduler/dequeued/memory': 9,\n",
      " 'scheduler/enqueued': 9,\n",
      " 'scheduler/enqueued/memory': 9,\n",
      " 'start_time': datetime.datetime(2021, 4, 9, 23, 11, 50, 232624)}\n",
      "2021-04-09 18:11:56 [scrapy.core.engine] INFO: Spider closed (finished)\n"
     ]
    }
   ],
   "source": [
    "dipus={}\n",
    "curp = \"h\"\n",
    "urlDipu = \"http://sitllxi.diputados.gob.mx/\"  \n",
    "urlCurr = \"http://sitllxi.diputados.gob.mx/curricula.php?dipt=\"  #MODIFICAR ESTO AL PASAR A 60\n",
    "\n",
    "por_votaciones = {}\n",
    "\n",
    "terminaciones = []\n",
    "for i in range(0,1):\n",
    "    for j in range(1,2):\n",
    "        for k in range(1,3):\n",
    "            terminaciones.append(str(i)+str(j)+str(k))\n",
    "#terminaciones.append(str(500))\n",
    "terminaciones.pop(0)\n",
    "\n",
    "\n",
    "# Run the Spider\n",
    "process = CrawlerProcess()\n",
    "process.crawl(Diputados)\n",
    "process.start()\n"
   ]
  },
  {
   "cell_type": "code",
   "execution_count": 8,
   "metadata": {},
   "outputs": [
    {
     "data": {
      "text/plain": [
       "[{'CURP': 'JUANADOLFOORCIMARTINEZ',\n",
       "  'Nombre': 'Juan Adolfo Orcí Martínez',\n",
       "  'TipoElección': '\\t\\t\\t\\t\\t\\t\\t\\t\\t    ',\n",
       "  'Entidad': '\\n\\t\\t\\t\\t\\t\\t\\t\\t\\t     ',\n",
       "  'Partido': 'PRD',\n",
       "  'Distrito': 'Mayoría Relativa 1 ',\n",
       "  'Correo': 'juan.orci@congreso.gob.mx ',\n",
       "  'Onomástico': 'Mulege',\n",
       "  'Suplente': 'Fidencio Perpuli Pagés',\n",
       "  'Comisiones': [' Pesca (Secretaría) ',\n",
       "   ' Presupuesto y Cuenta Pública  ',\n",
       "   ' Turismo (Secretaría) ',\n",
       "   ' Citricultura (Secretaría) '],\n",
       "  'Último grado de estudios': '\\t\\t\\t\\t\\t\\t\\t\\t\\t    ',\n",
       "  'votos': 590}]"
      ]
     },
     "execution_count": 8,
     "metadata": {},
     "output_type": "execute_result"
    }
   ],
   "source": [
    "list_of_dipus = [value for value in dipus.values()]\n",
    "list_of_dipus"
   ]
  },
  {
   "cell_type": "code",
   "execution_count": 9,
   "metadata": {},
   "outputs": [],
   "source": [
    "list_of_votos = [value for value in por_votaciones.values()]\n",
    "list_of_votos"
   ]
  },
  {
   "cell_type": "code",
   "execution_count": 10,
   "metadata": {},
   "outputs": [],
   "source": [
    "with open('diputados_61.json', 'a') as f:      #MODIFICAR ESTO AL PASAR A 60\n",
    "            json.dump(list_of_dipus, f, indent=4, ensure_ascii=False) # antes dipus"
   ]
  },
  {
   "cell_type": "code",
   "execution_count": 11,
   "metadata": {},
   "outputs": [],
   "source": [
    "with open('votaciones_61.json', 'a') as f:     #MODIFICAR ESTO AL PASAR A 60\n",
    "            json.dump(list_of_votos, f, indent=4, ensure_ascii=False)"
   ]
  },
  {
   "cell_type": "code",
   "execution_count": 10,
   "metadata": {},
   "outputs": [
    {
     "data": {
      "text/plain": [
       "'12-octubre'"
      ]
     },
     "execution_count": 10,
     "metadata": {},
     "output_type": "execute_result"
    }
   ],
   "source": [
    "nom = ' \\n\\n\\n                          12-octubre\\n                          \\n\\n\\n                          '\n",
    "limpiaText(nom)"
   ]
  },
  {
   "cell_type": "code",
   "execution_count": 43,
   "metadata": {},
   "outputs": [
    {
     "data": {
      "text/plain": [
       "'De. lfino López Aparicio'"
      ]
     },
     "execution_count": 43,
     "metadata": {},
     "output_type": "execute_result"
    }
   ],
   "source": [
    "limpiaText(\"De. lfino (LICENCIA) López Aparicio (DECESO) \")"
   ]
  },
  {
   "cell_type": "code",
   "execution_count": 25,
   "metadata": {},
   "outputs": [
    {
     "data": {
      "text/plain": [
       "'DELFINOLOPEZAPARICIO'"
      ]
     },
     "execution_count": 25,
     "metadata": {},
     "output_type": "execute_result"
    }
   ],
   "source": [
    "creaCurp('De. lfino López Aparicio',\"\")"
   ]
  },
  {
   "cell_type": "code",
   "execution_count": null,
   "metadata": {},
   "outputs": [],
   "source": []
  }
 ],
 "metadata": {
  "kernelspec": {
   "display_name": "Python 3",
   "language": "python",
   "name": "python3"
  },
  "language_info": {
   "codemirror_mode": {
    "name": "ipython",
    "version": 3
   },
   "file_extension": ".py",
   "mimetype": "text/x-python",
   "name": "python",
   "nbconvert_exporter": "python",
   "pygments_lexer": "ipython3",
   "version": "3.8.2"
  }
 },
 "nbformat": 4,
 "nbformat_minor": 4
}
